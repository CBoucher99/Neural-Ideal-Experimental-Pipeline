{
 "cells": [
  {
   "cell_type": "code",
   "execution_count": null,
   "metadata": {
    "scrolled": true
   },
   "outputs": [],
   "source": [
    "load(\"NeuralIdeals/iterative_canonical.spyx\")\n",
    "load(\"NeuralIdeals/neuralcode.py\")\n",
    "load(\"NeuralIdeals/examples.py\")"
   ]
  },
  {
   "cell_type": "code",
   "execution_count": null,
   "metadata": {},
   "outputs": [],
   "source": [
    "file_name =r\"C:\\Users\\Colle\\Honors\\neural_code_0002132022-04-10.txt\"\n",
    "f = open(file_name, \"r\")\n",
    "codewords = f.read()\n",
    "codewords_list = codewords.split(\",\")\n",
    "f.close()\n",
    "\n",
    "neuralCode = NeuralCode(codewords_list)\n",
    "neuralIdeal = neuralCode.neural_ideal()\n",
    "#neuralIdeal #outputs the computed full neuralIdeal for this dataset"
   ]
  },
  {
   "cell_type": "code",
   "execution_count": null,
   "metadata": {},
   "outputs": [],
   "source": [
    "neuralCode.canonical #updated algorithm from Petersen (2018)\n",
    "#neuralCode.canonical(algorithm=\"original\") #original algorithm from Youngs (2014)"
   ]
  },
  {
   "cell_type": "code",
   "execution_count": null,
   "metadata": {},
   "outputs": [],
   "source": [
    "neuralCode.canonical_RF_structure() \n",
    "#outputs set information needed to construct receptive field representation"
   ]
  },
  {
   "cell_type": "code",
   "execution_count": null,
   "metadata": {},
   "outputs": [],
   "source": [
    "neuralIdeal.dimension() #computes the dimension of the ideal"
   ]
  }
 ],
 "metadata": {
  "kernelspec": {
   "display_name": "SageMath 9.3",
   "language": "sage",
   "name": "sagemath"
  },
  "language_info": {
   "codemirror_mode": {
    "name": "ipython",
    "version": 3
   },
   "file_extension": ".py",
   "mimetype": "text/x-python",
   "name": "python",
   "nbconvert_exporter": "python",
   "pygments_lexer": "ipython3",
   "version": "3.7.10"
  }
 },
 "nbformat": 4,
 "nbformat_minor": 4
}
